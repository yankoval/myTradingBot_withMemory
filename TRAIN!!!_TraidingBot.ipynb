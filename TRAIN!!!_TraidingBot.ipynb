{
 "cells": [
  {
   "cell_type": "markdown",
   "id": "ethical-cannon",
   "metadata": {
    "pycharm": {
     "name": "#%% md\n"
    }
   },
   "source": [
    "### myTraidingBot\n",
    "\"\"\"\n",
    "Script for training Stock Trading Bot.\n",
    "\n",
    "Usage:\n",
    "  train.py <train-stock> <val-stock> [--strategy=<strategy>]\n",
    "    [--window-size=<window-size>] [--batch-size=<batch-size>]\n",
    "    [--episode-count=<episode-count>] [--model-name=<model-name>]\n",
    "    [--pretrained] [--debug]\n",
    "\n",
    "Options:\n",
    "  --strategy=<strategy>             Q-learning strategy to use for training the network. Options:\n",
    "                                      `dqn` i.e. Vanilla DQN,\n",
    "                                      `t-dqn` i.e. DQN with fixed target distribution,\n",
    "                                      `double-dqn` i.e. DQN with separate network for value estimation. [default: t-dqn]\n",
    "  --window-size=<window-size>       Size of the n-day window stock data representation\n",
    "                                    used as the feature vector. [default: 10]\n",
    "  --batch-size=<batch-size>         Number of samples to train on in one mini-batch\n",
    "                                    during training. [default: 32]\n",
    "  --episode-count=<episode-count>   Number of trading episodes to use for training. [default: 50]\n",
    "  --model-name=<model-name>         Name of the pretrained model to use. [default: model_debug]\n",
    "  --pretrained                      Specifies whether to continue training a previously\n",
    "                                    trained model (reads `model-name`).\n",
    "  --debug                           Specifies whether to use verbose logs during eval operation.\n",
    "\"\"\""
   ]
  },
  {
   "cell_type": "code",
   "execution_count": null,
   "id": "direct-amplifier",
   "metadata": {
    "pycharm": {
     "name": "#%%\n"
    }
   },
   "outputs": [],
   "source": [
    "#cd C:\\Users\\Иван\\tf\\myTradingBot_withMemory"
   ]
  },
  {
   "cell_type": "code",
   "execution_count": null,
   "id": "sunset-taiwan",
   "metadata": {
    "pycharm": {
     "name": "#%%\n"
    }
   },
   "outputs": [],
   "source": [
    "import cProfile\n",
    "import re\n",
    "cProfile.run('re.compile(\"foo|bar\")')"
   ]
  },
  {
   "cell_type": "code",
   "execution_count": null,
   "id": "secondary-script",
   "metadata": {
    "pycharm": {
     "name": "#%%\n"
    }
   },
   "outputs": [],
   "source": [
    "import logging\n",
    "import coloredlogs\n",
    "\n",
    "from docopt import docopt\n",
    "\n",
    "from trading_bot.agent import Agent\n",
    "from trading_bot.methods import train_model, evaluate_model\n",
    "from trading_bot.utils import (\n",
    "    get_stock_data,\n",
    "    format_currency,\n",
    "    format_position,\n",
    "    show_train_result,\n",
    "    switch_k_backend_device\n",
    ")\n"
   ]
  },
  {
   "cell_type": "code",
   "execution_count": null,
   "id": "assumed-davis",
   "metadata": {
    "pycharm": {
     "name": "#%%\n"
    }
   },
   "outputs": [],
   "source": [
    "switch_k_backend_device()"
   ]
  },
  {
   "cell_type": "code",
   "execution_count": null,
   "id": "departmental-germany",
   "metadata": {
    "pycharm": {
     "name": "#%%\n"
    }
   },
   "outputs": [],
   "source": [
    "# Init\n",
    "\n",
    "# Train data\n",
    "train_stock = r'D:\\share\\finam\\data\\GAZP\\hourly\\GAZP_2022.csv'\n",
    "# Validate data\n",
    "val_stock = r'D:\\share\\finam\\data\\GAZP\\hourly\\GAZP_2022.csv'\n",
    "window_size = 10\n",
    "batch_size = 32\n",
    "# Qty training episodes\n",
    "ep_count = 10 \n",
    "strategy= \"t-dqn\"#'double-dqn' #\"t-dqn\"\n",
    "# Model file name\n",
    "model_name=\"model_M_t-dqn_tst\"\n",
    "# Create new model or not\n",
    "pretrained=False\n",
    "debug=True"
   ]
  },
  {
   "cell_type": "code",
   "execution_count": null,
   "id": "improving-gender",
   "metadata": {
    "pycharm": {
     "name": "#%%\n"
    }
   },
   "outputs": [],
   "source": [
    "import logging\n",
    "logger = logging.getLogger()\n",
    "logger.setLevel(logging.DEBUG)\n",
    "logging.debug(\"test\")"
   ]
  },
  {
   "cell_type": "code",
   "execution_count": null,
   "id": "fewer-hardware",
   "metadata": {
    "pycharm": {
     "name": "#%%\n"
    }
   },
   "outputs": [],
   "source": [
    "agent = Agent(window_size, strategy=strategy, pretrained=pretrained, model_name=model_name)\n"
   ]
  },
  {
   "cell_type": "code",
   "execution_count": null,
   "id": "german-rally",
   "metadata": {
    "pycharm": {
     "name": "#%%\n"
    }
   },
   "outputs": [],
   "source": [
    "train_data = get_stock_data(train_stock,tfCounts=100000)\n"
   ]
  },
  {
   "cell_type": "code",
   "execution_count": null,
   "id": "accomplished-claim",
   "metadata": {
    "pycharm": {
     "name": "#%%\n"
    }
   },
   "outputs": [],
   "source": [
    "val_data = get_stock_data(val_stock)"
   ]
  },
  {
   "cell_type": "code",
   "execution_count": null,
   "id": "right-channels",
   "metadata": {
    "pycharm": {
     "name": "#%%\n"
    }
   },
   "outputs": [],
   "source": [
    "train_data = train_data[0:100]\n",
    "val_data = val_data[0:100]"
   ]
  },
  {
   "cell_type": "code",
   "execution_count": null,
   "id": "celtic-business",
   "metadata": {
    "pycharm": {
     "name": "#%%\n"
    }
   },
   "outputs": [],
   "source": [
    "initial_offset = val_data[1] - val_data[0]"
   ]
  },
  {
   "cell_type": "markdown",
   "id": "architectural-input",
   "metadata": {
    "pycharm": {
     "name": "#%% md\n"
    }
   },
   "source": [
    "### Train"
   ]
  },
  {
   "cell_type": "code",
   "execution_count": null,
   "id": "consecutive-truck",
   "metadata": {
    "scrolled": true,
    "pycharm": {
     "name": "#%%\n"
    }
   },
   "outputs": [],
   "source": [
    "for episode in range(ep_count + 1):\n",
    "    #cProfile.run('train_result = train_model(agent, episode, train_data, ep_count=ep_count,batch_size=batch_size, window_size=window_size)')\n",
    "    train_result = train_model(agent, episode, train_data, ep_count=ep_count,batch_size=batch_size, window_size=window_size)\n",
    "    val_result, _ = evaluate_model(agent, val_data, window_size, debug)\n",
    "    show_train_result(train_result, val_result, initial_offset)\n"
   ]
  },
  {
   "cell_type": "code",
   "execution_count": null,
   "id": "civilian-glenn",
   "metadata": {
    "scrolled": true,
    "pycharm": {
     "name": "#%%\n"
    }
   },
   "outputs": [],
   "source": [
    "val_result, _ = evaluate_model(agent, val_data, window_size, True)"
   ]
  },
  {
   "cell_type": "code",
   "execution_count": null,
   "id": "atmospheric-photograph",
   "metadata": {
    "pycharm": {
     "name": "#%%\n"
    }
   },
   "outputs": [],
   "source": [
    "show_train_result(train_result, val_result, initial_offset)"
   ]
  },
  {
   "cell_type": "code",
   "execution_count": null,
   "id": "visible-republican",
   "metadata": {
    "pycharm": {
     "name": "#%%\n"
    }
   },
   "outputs": [],
   "source": [
    "agent.target_model.predict(get_state(train_data,100,11))"
   ]
  },
  {
   "cell_type": "code",
   "execution_count": null,
   "id": "macro-tongue",
   "metadata": {
    "pycharm": {
     "name": "#%%\n"
    }
   },
   "outputs": [],
   "source": [
    "import logging\n",
    "logger = logging.getLogger()\n",
    "logger.setLevel(logging.DEBUG)\n",
    "logging.debug(\"test\")"
   ]
  },
  {
   "cell_type": "code",
   "execution_count": null,
   "id": "swedish-prisoner",
   "metadata": {
    "pycharm": {
     "name": "#%%\n"
    }
   },
   "outputs": [],
   "source": [
    "%matplotlib widget\n",
    "\n",
    "import matplotlib.pyplot as plt\n",
    "import pandas as pd\n",
    "from trading_bot.ops import (\n",
    "    get_state\n",
    ")\n",
    "\n",
    "state = [agent.act(get_state(train_data,i,11))*10+250 for i in  range(10,60)]\n",
    "# print(agent.act(state))\n",
    "df = train_data.copy()\n",
    "#df[] = pd.Series(state)\n",
    "plt.plot(df[10:60])\n",
    "plt.scatter(list(range(len(state))),state)\n"
   ]
  },
  {
   "cell_type": "code",
   "execution_count": null,
   "id": "concerned-training",
   "metadata": {
    "pycharm": {
     "name": "#%%\n"
    }
   },
   "outputs": [],
   "source": [
    "agent.model.save('Test_Model.h5')"
   ]
  },
  {
   "cell_type": "code",
   "execution_count": null,
   "id": "unlimited-sculpture",
   "metadata": {
    "pycharm": {
     "name": "#%%\n"
    }
   },
   "outputs": [],
   "source": [
    "from keras.models import load_model, clone_model\n",
    "agent.model = load_model('Test_Model.h5')"
   ]
  },
  {
   "cell_type": "code",
   "execution_count": null,
   "id": "organizational-signal",
   "metadata": {
    "pycharm": {
     "name": "#%%\n"
    }
   },
   "outputs": [],
   "source": [
    "val_data[:10]\n"
   ]
  },
  {
   "cell_type": "code",
   "execution_count": null,
   "id": "bridal-interpretation",
   "metadata": {
    "pycharm": {
     "name": "#%%\n"
    }
   },
   "outputs": [],
   "source": []
  }
 ],
 "metadata": {
  "kernelspec": {
   "display_name": "Python 3",
   "language": "python",
   "name": "python3"
  },
  "language_info": {
   "codemirror_mode": {
    "name": "ipython",
    "version": 3
   },
   "file_extension": ".py",
   "mimetype": "text/x-python",
   "name": "python",
   "nbconvert_exporter": "python",
   "pygments_lexer": "ipython3",
   "version": "3.8.5"
  }
 },
 "nbformat": 4,
 "nbformat_minor": 5
}
